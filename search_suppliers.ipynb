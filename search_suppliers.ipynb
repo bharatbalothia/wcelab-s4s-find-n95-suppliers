{
 "nbformat": 4,
 "nbformat_minor": 2,
 "metadata": {
  "language_info": {
   "name": "python",
   "codemirror_mode": {
    "name": "ipython",
    "version": 3
   },
   "version": "3.7.4-final"
  },
  "orig_nbformat": 2,
  "file_extension": ".py",
  "mimetype": "text/x-python",
  "name": "python",
  "npconvert_exporter": "python",
  "pygments_lexer": "ipython3",
  "version": 3,
  "kernelspec": {
   "name": "python3",
   "display_name": "Python 3"
  }
 },
 "cells": [
  {
   "cell_type": "markdown",
   "metadata": {},
   "source": [
    "# Search Supplier\n",
    "\n",
    "This program compares two lists of companies and identify possible matches in both lists\n"
   ],
   "execution_count": null,
   "outputs": []
  },
  {
   "cell_type": "code",
   "execution_count": 1,
   "metadata": {},
   "outputs": [],
   "source": [
    "##############################################################\n",
    "# Configuration values\n",
    "##############################################################\n",
    "\n",
    "import os\n",
    "\n",
    "## Data Folder and File Names\n",
    "DATA_DIR                = './data'\n",
    "\n",
    "\n",
    "SCBN_SUPPLIER_FILE_PATH  = os.path.join(DATA_DIR, 'GIODEUsageReportCOMBINED03092020.xlsx')\n",
    "VAN_SUPPLIER_FILE_PATH   = os.path.join(DATA_DIR, 'Trading partners using the 846 document.xlsx')\n",
    "CDC_SUPPLIER_INDEX_PAGE = 'https://www.cdc.gov/niosh/npptl/topics/respirators/disp_part/N95list1.html'\n",
    "\n",
    "REPORT_FILE_PATH         = os.path.join(DATA_DIR, 'supplier_match_result.xlsx')\n",
    "\n",
    "NAME_MATCH_TOCKEN_LENGTH = 5\n",
    ""
   ]
  },
  {
   "cell_type": "code",
   "execution_count": 2,
   "metadata": {},
   "outputs": [],
   "source": [
    "\n",
    "import numpy as np\n",
    "import pandas as pd\n",
    "import string\n",
    "from urllib.error import URLError, HTTPError\n",
    "import cdc_parser as cdcprsr\n",
    "import re\n",
    "\n",
    "def read_scbn_supplier_list(filepath: str, sheetnum: int, headerrownum: int) -> pd.DataFrame:\n",
    "    # load SCBN supplier list\n",
    "\n",
    "    scbn_suppliers_all = pd.read_excel(filepath,\n",
    "            sheetnum, # Read the first worksheet\n",
    "            headerrownum, # Header is on row 0 (row 1 in Excel's 1base count)\n",
    "            )\n",
    "\n",
    "    scbn_suppliers_846 = scbn_suppliers_all[scbn_suppliers_all['DOCUMENTTYPENAME'] == 846]\n",
    "\n",
    "    # print(scbn_suppliers_846)\n",
    "\n",
    "    return_list = scbn_suppliers_846[['NAME', 'BUSINESSALIASNAME', 'NUMBEROFDOCS']]\n",
    "\n",
    "    return_list.columns = ['name', 'alias', 'doc_count']\n",
    "\n",
    "    return_list['system'] = 'SCBN'\n",
    "\n",
    "    return return_list\n",
    "\n",
    "def read_van_supplier_list(filepath: str, sheetnum: int, headerrownum: int) -> pd.DataFrame:\n",
    "    # load SCBN supplier list\n",
    "\n",
    "    van_suppliers_all = pd.read_excel(filepath,\n",
    "            sheetnum, # Read the first worksheet\n",
    "            headerrownum, # Header is on row 0 (row 1 in Excel's 1base count)\n",
    "            )\n",
    "\n",
    "    return_list = van_suppliers_all[['Company Name', 'Sender ID', 'Doc Count']]\n",
    "\n",
    "    return_list.columns = ['name', 'alias', 'doc_count']\n",
    "\n",
    "    return_list['system'] = 'VAN'\n",
    "\n",
    "    return return_list"
   ]
  },
  {
   "cell_type": "code",
   "execution_count": 3,
   "metadata": {},
   "outputs": [],
   "source": [
    "\n",
    "def get_cdc_supplier_list (cdc_supplier_index_url: str) -> pd.DataFrame:\n",
    "\n",
    "    # Read CDC Approved Respirator company list\n",
    "\n",
    "    # get the links to all of the pages of CDC approved supplier from the index page\n",
    "    requestlist = cdcprsr.get_cdc_supplier_page_list(cdc_supplier_index_url)\n",
    "\n",
    "    cdc_supplier_results = []\n",
    "\n",
    "    for req in requestlist:\n",
    "\n",
    "        try:\n",
    "            html_tables = pd.read_html(\n",
    "                req,\n",
    "                attrs = { 'class': 'table'},\n",
    "                match = 'Manufacturers Listed Alphabetically'\n",
    "                )\n",
    "        except HTTPError as httperr:\n",
    "            print(\"Cannot load the page of {} with the exception of {}\".format(url, httperr))\n",
    "            html_tables = None\n",
    "        \n",
    "\n",
    "        if html_tables is not None and len(html_tables) > 0:\n",
    "\n",
    "            supplier_on_page = html_tables[0]\n",
    "            cdc_supplier_results.append(supplier_on_page)\n",
    "\n",
    "\n",
    "    cdc_supplier_list = pd.concat(\n",
    "        cdc_supplier_results,\n",
    "        ignore_index=True,\n",
    "    )\n",
    "\n",
    "    cdc_supplier_list['name'] = cdc_supplier_list['Supplier/Manufacturer and Contact Information'].str.split('external icon').str[0]\n",
    "\n",
    "    return cdc_supplier_list\n",
    "\n",
    "\n",
    ""
   ]
  },
  {
   "cell_type": "code",
   "execution_count": 4,
   "metadata": {},
   "outputs": [],
   "source": [
    "def construct_matchvalue(inputrow, descfieldname, numoftokens):\n",
    "\n",
    "    TOKEN_IGNORE_START_WITH = ('incorp', 'compan', 'corp', 'ltd', 'llp', )\n",
    "    TOKEN_IGNORE = ['inc', 'co', 'prod']\n",
    "\n",
    "    inputname = inputrow[descfieldname]\n",
    "\n",
    "    if isinstance(inputname, str):\n",
    "        # split the name into tokens by space\n",
    "        name_tokens = inputname.lower().split()\n",
    "\n",
    "        match_tokens = []\n",
    "\n",
    "        for ele in name_tokens:\n",
    "            # only use tokens with letters (including unicode letters) in them\n",
    "            if re.search('[^\\d\\W]+', ele):\n",
    "                # keep only alphnumeric character in a token\n",
    "                ele_only_alpha = re.sub('[\\W]', '', ele)\n",
    "\n",
    "                if ele_only_alpha is not None and len(ele_only_alpha) > 0 \\\n",
    "                and not ele_only_alpha.startswith(TOKEN_IGNORE_START_WITH) \\\n",
    "                and not ele_only_alpha in TOKEN_IGNORE:\n",
    "                    match_tokens.append(ele_only_alpha)\n",
    "\n",
    "        return ' '.join(match_tokens[0:numoftokens])\n",
    "\n",
    "\n",
    "    else:\n",
    "        return 'NO DESCRIPTION!!!'"
   ]
  },
  {
   "cell_type": "code",
   "execution_count": 5,
   "metadata": {},
   "outputs": [],
   "source": [
    "cdc_suppliers = get_cdc_supplier_list(CDC_SUPPLIER_INDEX_PAGE)\n",
    "\n",
    "# Constructed the MatchValue column using the construct_matchvalue function\n",
    "cdc_suppliers['name2match'] = cdc_suppliers.apply(\n",
    "    construct_matchvalue, \n",
    "    args=('name', NAME_MATCH_TOCKEN_LENGTH), \n",
    "    axis=1,\n",
    "    )\n",
    "    "
   ]
  },
  {
   "cell_type": "code",
   "execution_count": 6,
   "metadata": {},
   "outputs": [],
   "source": [
    "# get scbn suppliers\n",
    "scbn_suppliers = read_scbn_supplier_list(SCBN_SUPPLIER_FILE_PATH, 0, 0)\n",
    "\n",
    "# scbn_suppliers"
   ]
  },
  {
   "cell_type": "code",
   "execution_count": 7,
   "metadata": {},
   "outputs": [],
   "source": [
    "van_suppliers = read_van_supplier_list(VAN_SUPPLIER_FILE_PATH, 0, 0)\n",
    "\n",
    "# van_suppliers"
   ]
  },
  {
   "cell_type": "code",
   "execution_count": 8,
   "metadata": {},
   "outputs": [],
   "source": [
    "ibm_suppliers = pd.concat(\n",
    "    [scbn_suppliers, van_suppliers],\n",
    "    ignore_index=True,\n",
    "    keys='name',\n",
    "    )\n",
    "\n",
    "# ibm_suppliers.reindex()\n",
    "\n",
    "ibm_suppliers['name'] = ibm_suppliers['name'].str.upper()\n",
    "\n",
    "# Constructed the MatchValue column using the construct_matchvalue function\n",
    "ibm_suppliers['name2match'] = ibm_suppliers.apply(\n",
    "    construct_matchvalue, \n",
    "    args=('name', NAME_MATCH_TOCKEN_LENGTH), \n",
    "    axis=1,\n",
    "    )\n",
    "\n",
    "# ibm_suppliers"
   ]
  },
  {
   "cell_type": "code",
   "execution_count": 9,
   "metadata": {},
   "outputs": [],
   "source": [
    "\n",
    "ibm_suppliers['scbn_van_transactions'] = ibm_suppliers['system'] + '(' + ibm_suppliers['doc_count'].astype(str) + ')'\n",
    "\n",
    "ibm_supplier_agg = ibm_suppliers.groupby(['name2match'])['scbn_van_transactions'].apply(', '.join)\n",
    "\n",
    "# ibm_supplier_agg.set_index(['name', 'nametomatch'])\n",
    "# ibm_supplier_agg\n"
   ]
  },
  {
   "cell_type": "code",
   "execution_count": 10,
   "metadata": {},
   "outputs": [],
   "source": [
    "# cdc_suppliers.reindex()\n",
    "\n",
    "cdc_supplier_agg = cdc_suppliers.groupby(['name', 'name2match'])['Approval Number'].apply(', '.join)\n",
    "\n",
    "# cdc_supplier_agg.set_index(['name', 'nametomatch'])\n",
    "\n",
    "# cdc_supplier_agg"
   ]
  },
  {
   "cell_type": "code",
   "execution_count": 13,
   "metadata": {},
   "outputs": [
    {
     "output_type": "execute_result",
     "data": {
      "text/plain": "                      company name                  match name  \\\n0                       3M Company                          3m   \n1               4522915 Canada Inc                      canada   \n2    A.R. Medicom Inc. (ASIA) Ltd.             ar medicom asia   \n3          A.R. Medicom Inc., Ltd.                  ar medicom   \n4          AARON Industrial Safety     aaron industrial safety   \n..                             ...                         ...   \n345                    Zee Medical                 zee medical   \n346              Zee Medical, Inc.                 zee medical   \n347    Zhou Medical Solutions, LLC  zhou medical solutions llc   \n348         i-Nano Industries Pte.        inano industries pte   \n349                 iQ Power Tools              iq power tools   \n\n                         cdc N95 model approval number  \\\n0    84A-0006, 84A-0007, 84A-0008, 84A-0454, 84A-12...   \n1                                   84A-3888, 84A-3889   \n2                         84A-3323, 84A-4541, 84A-7643   \n3                                   84A-4006, 84A-4282   \n4                                             84A-0160   \n..                                                 ...   \n345                                           84A-0328   \n346                                 84A-0160, 84A-0161   \n347                                 84A-5411, 84A-5463   \n348                                           84A-5037   \n349                                           84A-7860   \n\n    ibm network 846 transactions  \n0                      VAN(38.0)  \n1                            NaN  \n2                            NaN  \n3                            NaN  \n4                            NaN  \n..                           ...  \n345                          NaN  \n346                          NaN  \n347                          NaN  \n348                          NaN  \n349                          NaN  \n\n[350 rows x 4 columns]",
      "text/html": "<div>\n<style scoped>\n    .dataframe tbody tr th:only-of-type {\n        vertical-align: middle;\n    }\n\n    .dataframe tbody tr th {\n        vertical-align: top;\n    }\n\n    .dataframe thead th {\n        text-align: right;\n    }\n</style>\n<table border=\"1\" class=\"dataframe\">\n  <thead>\n    <tr style=\"text-align: right;\">\n      <th></th>\n      <th>company name</th>\n      <th>match name</th>\n      <th>cdc N95 model approval number</th>\n      <th>ibm network 846 transactions</th>\n    </tr>\n  </thead>\n  <tbody>\n    <tr>\n      <td>0</td>\n      <td>3M Company</td>\n      <td>3m</td>\n      <td>84A-0006, 84A-0007, 84A-0008, 84A-0454, 84A-12...</td>\n      <td>VAN(38.0)</td>\n    </tr>\n    <tr>\n      <td>1</td>\n      <td>4522915 Canada Inc</td>\n      <td>canada</td>\n      <td>84A-3888, 84A-3889</td>\n      <td>NaN</td>\n    </tr>\n    <tr>\n      <td>2</td>\n      <td>A.R. Medicom Inc. (ASIA) Ltd.</td>\n      <td>ar medicom asia</td>\n      <td>84A-3323, 84A-4541, 84A-7643</td>\n      <td>NaN</td>\n    </tr>\n    <tr>\n      <td>3</td>\n      <td>A.R. Medicom Inc., Ltd.</td>\n      <td>ar medicom</td>\n      <td>84A-4006, 84A-4282</td>\n      <td>NaN</td>\n    </tr>\n    <tr>\n      <td>4</td>\n      <td>AARON Industrial Safety</td>\n      <td>aaron industrial safety</td>\n      <td>84A-0160</td>\n      <td>NaN</td>\n    </tr>\n    <tr>\n      <td>...</td>\n      <td>...</td>\n      <td>...</td>\n      <td>...</td>\n      <td>...</td>\n    </tr>\n    <tr>\n      <td>345</td>\n      <td>Zee Medical</td>\n      <td>zee medical</td>\n      <td>84A-0328</td>\n      <td>NaN</td>\n    </tr>\n    <tr>\n      <td>346</td>\n      <td>Zee Medical, Inc.</td>\n      <td>zee medical</td>\n      <td>84A-0160, 84A-0161</td>\n      <td>NaN</td>\n    </tr>\n    <tr>\n      <td>347</td>\n      <td>Zhou Medical Solutions, LLC</td>\n      <td>zhou medical solutions llc</td>\n      <td>84A-5411, 84A-5463</td>\n      <td>NaN</td>\n    </tr>\n    <tr>\n      <td>348</td>\n      <td>i-Nano Industries Pte.</td>\n      <td>inano industries pte</td>\n      <td>84A-5037</td>\n      <td>NaN</td>\n    </tr>\n    <tr>\n      <td>349</td>\n      <td>iQ Power Tools</td>\n      <td>iq power tools</td>\n      <td>84A-7860</td>\n      <td>NaN</td>\n    </tr>\n  </tbody>\n</table>\n<p>350 rows × 4 columns</p>\n</div>"
     },
     "metadata": {},
     "execution_count": 13
    }
   ],
   "source": [
    "\n",
    "ibm_supplier_agg.reset_index()\n",
    "\n",
    "match_result = cdc_supplier_agg.reset_index().merge(\n",
    "    ibm_supplier_agg,\n",
    "    on=['name2match'],\n",
    "    # left_on='name2match',\n",
    "    # right_on='name2match',\n",
    "    how='left',\n",
    "    suffixes=('_CDC', '_IBM'),\n",
    "    # indicator=True,\n",
    ")\n",
    "\n",
    "match_result.columns = ['company name', 'match name', 'cdc N95 model approval number', 'ibm network 846 transactions']\n",
    "\n",
    "match_result"
   ]
  },
  {
   "cell_type": "code",
   "execution_count": 14,
   "metadata": {},
   "outputs": [],
   "source": [
    "# persist cdc approved supplier list and ibm supplier list to an Excel\n",
    "\n",
    "output_writer = pd.ExcelWriter(REPORT_FILE_PATH)\n",
    "\n",
    "cdc_suppliers.to_excel(output_writer, sheet_name='cdc approved suppliers')\n",
    "cdc_supplier_agg.to_excel(output_writer, sheet_name='cdc suppliers agg')\n",
    "\n",
    "ibm_suppliers.to_excel(output_writer, sheet_name='suppliers on ibm network')\n",
    "ibm_supplier_agg.to_excel(output_writer, sheet_name='suppliers on ibm agg')\n",
    "\n",
    "match_result.to_excel(output_writer, sheet_name='match result')\n",
    "\n",
    "output_writer.save()\n",
    "output_writer.close()"
   ]
  }
 ]
}