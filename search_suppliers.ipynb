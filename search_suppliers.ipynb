{
 "nbformat": 4,
 "nbformat_minor": 2,
 "metadata": {
  "language_info": {
   "name": "python",
   "codemirror_mode": {
    "name": "ipython",
    "version": 3
   },
   "version": "3.7.4-final"
  },
  "orig_nbformat": 2,
  "file_extension": ".py",
  "mimetype": "text/x-python",
  "name": "python",
  "npconvert_exporter": "python",
  "pygments_lexer": "ipython3",
  "version": 3,
  "kernelspec": {
   "name": "python3",
   "display_name": "Python 3"
  }
 },
 "cells": [
  {
   "cell_type": "markdown",
   "metadata": {},
   "source": [
    "# Search Supplier\n",
    "\n",
    "This program compares two lists of companies and identifies possible matches from the lists.\n"
   ],
   "execution_count": null,
   "outputs": []
  },
  {
   "cell_type": "markdown",
   "metadata": {},
   "source": [
    "## Configuration values\n",
    "\n",
    "Configure the values below for \n",
    "\n",
    "- Input files\n",
    "- CDC page url\n",
    "- Output file\n",
    "- Number of tokens to consider for company name match"
   ]
  },
  {
   "cell_type": "code",
   "execution_count": null,
   "metadata": {},
   "outputs": [],
   "source": [
    "##############################################################\n",
    "# Configuration values\n",
    "##############################################################\n",
    "\n",
    "import os\n",
    "\n",
    "## Data Folder and File Names\n",
    "DATA_DIR                = './data'\n",
    "\n",
    "\n",
    "SCBN_SUPPLIER_FILE_PATH  = os.path.join(DATA_DIR, 'GIODEUsageReportCOMBINED03092020.xlsx')\n",
    "VAN_SUPPLIER_FILE_PATH   = os.path.join(DATA_DIR, 'Trading partners using the 846 document.xlsx')\n",
    "CDC_SUPPLIER_INDEX_PAGE = 'https://www.cdc.gov/niosh/npptl/topics/respirators/disp_part/N95list1.html'\n",
    "\n",
    "REPORT_FILE_PATH         = os.path.join(DATA_DIR, 'supplier_match_result.xlsx')\n",
    "\n",
    "NAME_MATCH_TOCKEN_LENGTH = 5\n",
    ""
   ]
  },
  {
   "cell_type": "code",
   "execution_count": null,
   "metadata": {},
   "outputs": [],
   "source": [
    "import numpy as np\n",
    "import pandas as pd\n",
    "import string\n",
    "from urllib.error import URLError, HTTPError\n",
    "import cdc_parser as cdcprsr\n",
    "import re"
   ]
  },
  {
   "cell_type": "markdown",
   "metadata": {},
   "source": [
    "## Read suppliers on IBM Supply Chain (using Excel reports)"
   ]
  },
  {
   "cell_type": "code",
   "execution_count": null,
   "metadata": {},
   "outputs": [],
   "source": [
    "\n",
    "def read_scbn_supplier_list(filepath: str, sheetnum: int, headerrownum: int) -> pd.DataFrame:\n",
    "    # load SCBN supplier list\n",
    "\n",
    "    scbn_suppliers_all = pd.read_excel(filepath,\n",
    "            sheetnum, # Read the first worksheet\n",
    "            headerrownum, # Header is on row 0 (row 1 in Excel's 1base count)\n",
    "            )\n",
    "\n",
    "    scbn_suppliers_846 = scbn_suppliers_all[scbn_suppliers_all['DOCUMENTTYPENAME'] == 846]\n",
    "\n",
    "    # print(scbn_suppliers_846)\n",
    "\n",
    "    return_list = scbn_suppliers_846[['NAME', 'BUSINESSALIASNAME', 'NUMBEROFDOCS']]\n",
    "\n",
    "    return_list.columns = ['name', 'alias', 'doc_count']\n",
    "\n",
    "    return_list['system'] = 'SCBN'\n",
    "\n",
    "    return return_list\n",
    "\n",
    "def read_van_supplier_list(filepath: str, sheetnum: int, headerrownum: int) -> pd.DataFrame:\n",
    "    # load SCBN supplier list\n",
    "\n",
    "    van_suppliers_all = pd.read_excel(filepath,\n",
    "            sheetnum, # Read the first worksheet\n",
    "            headerrownum, # Header is on row 0 (row 1 in Excel's 1base count)\n",
    "            )\n",
    "\n",
    "    return_list = van_suppliers_all[['Company Name', 'Sender ID', 'Doc Count']]\n",
    "\n",
    "    return_list.columns = ['name', 'alias', 'doc_count']\n",
    "\n",
    "    return_list['system'] = 'VAN'\n",
    "\n",
    "    return return_list"
   ]
  },
  {
   "cell_type": "markdown",
   "metadata": {},
   "source": [
    "## Read CDC N95 supplier list (through html scraping)"
   ]
  },
  {
   "cell_type": "code",
   "execution_count": null,
   "metadata": {},
   "outputs": [],
   "source": [
    "\n",
    "def get_cdc_supplier_list (cdc_supplier_index_url: str) -> pd.DataFrame:\n",
    "\n",
    "    # Read CDC Approved Respirator company list\n",
    "\n",
    "    # get the links to all of the pages of CDC approved supplier from the index page\n",
    "    requestlist = cdcprsr.get_cdc_supplier_page_list(cdc_supplier_index_url)\n",
    "\n",
    "    cdc_supplier_results = []\n",
    "\n",
    "    for req in requestlist:\n",
    "\n",
    "        try:\n",
    "            html_tables = pd.read_html(\n",
    "                req,\n",
    "                attrs = { 'class': 'table'},\n",
    "                match = 'Manufacturers Listed Alphabetically'\n",
    "                )\n",
    "        except HTTPError as httperr:\n",
    "            print(\"Cannot load the page of {} with the exception of {}\".format(url, httperr))\n",
    "            html_tables = None\n",
    "        \n",
    "\n",
    "        if html_tables is not None and len(html_tables) > 0:\n",
    "\n",
    "            supplier_on_page = html_tables[0]\n",
    "            cdc_supplier_results.append(supplier_on_page)\n",
    "\n",
    "\n",
    "    cdc_supplier_list = pd.concat(\n",
    "        cdc_supplier_results,\n",
    "        ignore_index=True,\n",
    "    )\n",
    "\n",
    "    cdc_supplier_list['name'] = cdc_supplier_list['Supplier/Manufacturer and Contact Information'].str.split('external icon').str[0]\n",
    "\n",
    "    return cdc_supplier_list\n",
    "\n",
    "\n",
    ""
   ]
  },
  {
   "cell_type": "markdown",
   "metadata": {},
   "source": [
    "## Method to construct values of company names for matching purpose"
   ]
  },
  {
   "cell_type": "code",
   "execution_count": null,
   "metadata": {},
   "outputs": [],
   "source": [
    "def construct_matchvalue(inputrow, descfieldname, numoftokens):\n",
    "\n",
    "    TOKEN_IGNORE_START_WITH = ('incorp', 'compan', 'corp', 'ltd', 'llp', )\n",
    "    TOKEN_IGNORE = ['inc', 'co', 'prod', 'the']\n",
    "\n",
    "    inputname = inputrow[descfieldname]\n",
    "\n",
    "    if isinstance(inputname, str):\n",
    "        # split the name into tokens by space\n",
    "        name_tokens = inputname.lower().split()\n",
    "\n",
    "        match_tokens = []\n",
    "\n",
    "        for ele in name_tokens:\n",
    "            # only use tokens with letters (including unicode letters) in them\n",
    "            if re.search('[^\\d\\W]+', ele):\n",
    "                # keep only alphnumeric character in a token\n",
    "                ele_only_alpha = re.sub('[\\W]', '', ele)\n",
    "\n",
    "                if ele_only_alpha is not None and len(ele_only_alpha) > 0 \\\n",
    "                and not ele_only_alpha.startswith(TOKEN_IGNORE_START_WITH) \\\n",
    "                and not ele_only_alpha in TOKEN_IGNORE:\n",
    "                    match_tokens.append(ele_only_alpha)\n",
    "\n",
    "        return ' '.join(match_tokens[0:numoftokens])\n",
    "\n",
    "\n",
    "    else:\n",
    "        return 'NO DESCRIPTION!!!'"
   ]
  },
  {
   "cell_type": "markdown",
   "metadata": {},
   "source": [
    "## Main process\n",
    "\n",
    "1. Get CDC suppliers list\n",
    "1. Get the list of suppliers send 846 through IBM SCBN\n",
    "1. Get the list of suppliers send 846 through IBM VAN\n",
    "1. Combine SCBN and VAN lists as one list\n",
    "1. Aggregate both CDC list and IBM list by simplified company's name (as name2match)\n",
    "1. Left join the CDC aggregated supplier list to IBM list to find which CDC supplier is on IBM SCBN or VAN\n",
    "1. Save the data sets and match result to the output Excel"
   ]
  },
  {
   "cell_type": "code",
   "execution_count": null,
   "metadata": {},
   "outputs": [],
   "source": [
    "cdc_suppliers = get_cdc_supplier_list(CDC_SUPPLIER_INDEX_PAGE)\n",
    "\n",
    "# Constructed the MatchValue column using the construct_matchvalue function\n",
    "cdc_suppliers['name2match'] = cdc_suppliers.apply(\n",
    "    construct_matchvalue, \n",
    "    args=('name', NAME_MATCH_TOCKEN_LENGTH), \n",
    "    axis=1,\n",
    "    )\n",
    "    "
   ]
  },
  {
   "cell_type": "code",
   "execution_count": null,
   "metadata": {},
   "outputs": [],
   "source": [
    "# get scbn suppliers\n",
    "scbn_suppliers = read_scbn_supplier_list(SCBN_SUPPLIER_FILE_PATH, 0, 0)\n",
    "\n",
    "# scbn_suppliers"
   ]
  },
  {
   "cell_type": "code",
   "execution_count": null,
   "metadata": {},
   "outputs": [],
   "source": [
    "van_suppliers = read_van_supplier_list(VAN_SUPPLIER_FILE_PATH, 0, 0)\n",
    "\n",
    "# van_suppliers"
   ]
  },
  {
   "cell_type": "code",
   "execution_count": null,
   "metadata": {},
   "outputs": [],
   "source": [
    "ibm_suppliers = pd.concat(\n",
    "    [scbn_suppliers, van_suppliers],\n",
    "    ignore_index=True,\n",
    "    keys='name',\n",
    "    )\n",
    "\n",
    "# ibm_suppliers.reindex()\n",
    "\n",
    "ibm_suppliers['name'] = ibm_suppliers['name'].str.upper()\n",
    "\n",
    "# Constructed the MatchValue column using the construct_matchvalue function\n",
    "ibm_suppliers['name2match'] = ibm_suppliers.apply(\n",
    "    construct_matchvalue, \n",
    "    args=('name', NAME_MATCH_TOCKEN_LENGTH), \n",
    "    axis=1,\n",
    "    )\n",
    "\n",
    "# ibm_suppliers"
   ]
  },
  {
   "cell_type": "code",
   "execution_count": null,
   "metadata": {},
   "outputs": [],
   "source": [
    "\n",
    "ibm_suppliers['scbn_van_transactions'] = ibm_suppliers['system'] + '(' + ibm_suppliers['doc_count'].astype(str) + ')'\n",
    "\n",
    "ibm_supplier_agg = ibm_suppliers.groupby(['name2match'])['scbn_van_transactions'].apply(', '.join)\n",
    "\n",
    "# ibm_supplier_agg.set_index(['name', 'nametomatch'])\n",
    "# ibm_supplier_agg\n",
    ""
   ]
  },
  {
   "cell_type": "code",
   "execution_count": null,
   "metadata": {},
   "outputs": [],
   "source": [
    "# cdc_suppliers.reindex()\n",
    "\n",
    "cdc_supplier_agg = cdc_suppliers.groupby(['name', 'name2match'])['Approval Number'].apply(', '.join)\n",
    "\n",
    "# cdc_supplier_agg.set_index(['name', 'nametomatch'])\n",
    "\n",
    "# cdc_supplier_agg"
   ]
  },
  {
   "cell_type": "code",
   "execution_count": null,
   "metadata": {},
   "outputs": [],
   "source": [
    "\n",
    "ibm_supplier_agg.reset_index()\n",
    "\n",
    "match_result = cdc_supplier_agg.reset_index().merge(\n",
    "    ibm_supplier_agg,\n",
    "    on=['name2match'],\n",
    "    # left_on='name2match',\n",
    "    # right_on='name2match',\n",
    "    how='left',\n",
    "    suffixes=('_CDC', '_IBM'),\n",
    "    # indicator=True,\n",
    ")\n",
    "\n",
    "match_result.columns = ['company name', 'match name', 'CDC N95 model approval number', 'IBM network 846 transactions']\n",
    "\n",
    "match_result"
   ]
  },
  {
   "cell_type": "code",
   "execution_count": null,
   "metadata": {},
   "outputs": [],
   "source": [
    "# persist cdc approved supplier list and ibm supplier list to an Excel\n",
    "\n",
    "output_writer = pd.ExcelWriter(REPORT_FILE_PATH)\n",
    "\n",
    "cdc_suppliers.to_excel(output_writer, sheet_name='cdc approved suppliers')\n",
    "cdc_supplier_agg.to_excel(output_writer, sheet_name='cdc suppliers agg')\n",
    "\n",
    "ibm_suppliers.to_excel(output_writer, sheet_name='suppliers on ibm network')\n",
    "ibm_supplier_agg.to_excel(output_writer, sheet_name='suppliers on ibm agg')\n",
    "\n",
    "match_result.to_excel(output_writer, sheet_name='match result')\n",
    "\n",
    "output_writer.save()\n",
    "output_writer.close()"
   ]
  }
 ]
}